{
 "cells": [
  {
   "cell_type": "code",
   "execution_count": 58,
   "id": "d45d44e1",
   "metadata": {},
   "outputs": [],
   "source": [
    "def encrypt(plain_text,key):\n",
    "    plain_text = plain_text.upper()\n",
    "    key = key.upper()\n",
    "    cipher_text = ''\n",
    "    if(len(plain_text)==len(key)):\n",
    "        for x in range(len(plain_text)):\n",
    "            if plain_text[x] == \" \":\n",
    "                cipher_text += \" \"\n",
    "            else:\n",
    "                cipher_text += chr((((ord(plain_text[x])-65) +(ord(key[x])-65))%26)+65)\n",
    "                \n",
    "    return cipher_text         "
   ]
  },
  {
   "cell_type": "code",
   "execution_count": 62,
   "id": "040b51cd",
   "metadata": {},
   "outputs": [
    {
     "data": {
      "text/plain": [
       "'OAZOW JXA EGH WF DW'"
      ]
     },
     "execution_count": 62,
     "metadata": {},
     "output_type": "execute_result"
    }
   ],
   "source": [
    "encrypt('Smile plz now dm me','wordsnumbersletters')"
   ]
  },
  {
   "cell_type": "code",
   "execution_count": 52,
   "id": "aa8640b2",
   "metadata": {},
   "outputs": [],
   "source": [
    "def decrypt(cipher_text,key):\n",
    "    cipher_text = cipher_text.upper()\n",
    "    key = key.upper()\n",
    "    plain_text = ''\n",
    "    if(len(cipher_text)==len(key)):\n",
    "        for x in range(len(cipher_text)):\n",
    "            if cipher_text[x] == \" \":\n",
    "                plain_text += \" \"\n",
    "            else:\n",
    "                plain_text += chr((((ord(cipher_text[x])-65) -(ord(key[x])-65))%26)+65)\n",
    "                \n",
    "    return plain_text.lower()         "
   ]
  },
  {
   "cell_type": "code",
   "execution_count": 63,
   "id": "28394ac2",
   "metadata": {},
   "outputs": [
    {
     "data": {
      "text/plain": [
       "'smile plz now dm me'"
      ]
     },
     "execution_count": 63,
     "metadata": {},
     "output_type": "execute_result"
    }
   ],
   "source": [
    "decrypt('OAZOW JXA EGH WF DW','wordsnumbersletters')"
   ]
  },
  {
   "cell_type": "code",
   "execution_count": null,
   "id": "e37244cb",
   "metadata": {},
   "outputs": [],
   "source": []
  }
 ],
 "metadata": {
  "kernelspec": {
   "display_name": "Python 3 (ipykernel)",
   "language": "python",
   "name": "python3"
  },
  "language_info": {
   "codemirror_mode": {
    "name": "ipython",
    "version": 3
   },
   "file_extension": ".py",
   "mimetype": "text/x-python",
   "name": "python",
   "nbconvert_exporter": "python",
   "pygments_lexer": "ipython3",
   "version": "3.9.5"
  }
 },
 "nbformat": 4,
 "nbformat_minor": 5
}
